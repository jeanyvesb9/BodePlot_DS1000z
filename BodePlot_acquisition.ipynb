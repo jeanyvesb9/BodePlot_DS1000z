{
 "cells": [
  {
   "cell_type": "code",
   "execution_count": 1,
   "metadata": {},
   "outputs": [],
   "source": [
    "import visa\n",
    "import rigol1000z\n",
    "import jupyter_beeper\n",
    "from tqdm import tqdm\n",
    "import numpy as np\n",
    "import keyboard\n",
    "import time\n",
    "import pandas as pd\n",
    "import matplotlib.pyplot as plt"
   ]
  },
  {
   "cell_type": "code",
   "execution_count": 2,
   "metadata": {},
   "outputs": [
    {
     "name": "stdout",
     "output_type": "stream",
     "text": [
      "VISA Resources:  ('USB0::0x1AB1::0x04CE::DS1ZA181908193::INSTR',)\n"
     ]
    }
   ],
   "source": [
    "rm = visa.ResourceManager()\n",
    "print('VISA Resources: ', rm.list_resources())"
   ]
  },
  {
   "cell_type": "code",
   "execution_count": 3,
   "metadata": {},
   "outputs": [
    {
     "name": "stdout",
     "output_type": "stream",
     "text": [
      "ID:  RIGOL TECHNOLOGIES,DS1104Z,DS1ZA181908193,00.04.04\n",
      "\n"
     ]
    }
   ],
   "source": [
    "scope = rm.open_resource(rm.list_resources()[0])\n",
    "rigolScope = rigol1000z.Rigol1000z(scope)\n",
    "print('ID: ', rigolScope.get_id())"
   ]
  },
  {
   "cell_type": "code",
   "execution_count": 4,
   "metadata": {},
   "outputs": [],
   "source": [
    "class BodePlot_Point:\n",
    "    def __init__(self, vin, vout, delay, frequency):\n",
    "        self.vin = vin\n",
    "        self.vout = vout\n",
    "        self.delay = delay\n",
    "        self.frequency = frequency\n",
    "        \n",
    "        self.phase = (delay * frequency) * 2 * np.pi\n",
    "        self.H = 20 * np.log10(vout / vin)\n",
    "\n",
    "def bode_save(ls, path):\n",
    "    vins = []\n",
    "    vouts = []\n",
    "    delays = []\n",
    "    frequencies = []\n",
    "    Hs = []\n",
    "    phases = []\n",
    "    for l in ls:\n",
    "        vins += [x.vin for x in l]\n",
    "        vouts += [x.vout for x in l]\n",
    "        delays += [x.delay for x in l]\n",
    "        frequencies += [x.frequency for x in l]\n",
    "        Hs += [x.H for x in l]\n",
    "        phases += [x.phase for x in l]\n",
    "    \n",
    "    data = {'vin': vins, 'vout': vouts, 'delay': delays, 'frequency': frequencies, 'H': Hs, 'phase':phases}\n",
    "\n",
    "    df = pd.DataFrame(data,columns= ['vin', 'vout', 'delay', 'frequency', 'H', 'phase'])\n",
    "    \n",
    "    df.to_csv(path, index=False)\n",
    "    \n",
    "    return df\n",
    "\n",
    "def bode_plot(ls):\n",
    "    frequencies = []\n",
    "    Hs = []\n",
    "    phases = []\n",
    "    for l in ls:\n",
    "        frequencies += [x.frequency for x in l]\n",
    "        Hs += [x.H for x in l]\n",
    "        phases += [x.phase for x in l]\n",
    "    \n",
    "    plt.subplot(2, 1, 1)\n",
    "    plt.plot(frequencies, Hs, '.')\n",
    "    plt.title('Bode Plot')\n",
    "    plt.xscale('log')\n",
    "    plt.ylabel('$H$')\n",
    "\n",
    "    plt.subplot(2, 1, 2)\n",
    "    plt.plot(frequencies, phases, '.')\n",
    "    plt.xlabel('$f$ (Hz)')\n",
    "    plt.ylabel('$\\\\phi$')\n",
    "    plt.xscale('log')\n",
    "\n",
    "    plt.show()\n",
    "    \n",
    "        \n",
    "def captureBodePlot(scope, num, time_total_ms = 4500, time_setup_ms = 1900):\n",
    "    '''\n",
    "    Captures the amplitude of signals on channel 1 (Vin) and 2 (Vout), the time delay \n",
    "    between the signals, and the frequency of the signal on Channel 1. It repeats the \n",
    "    measurement 'num' times, every 'time_total_ms' milliseconds, with 'time_setup_ms'\n",
    "    milliseconds given to change the frequency setting in the signal generator \n",
    "    connected to the circuit. After the setup time a short beep is heard and the \n",
    "    measurements statistics are cleared and the following measurement begins. When each\n",
    "    measurement finished, a longer and higher pitch beep is heard.\n",
    "    \n",
    "    In order to stop the measurement before the completion of 'num' iterations and still \n",
    "    retrieve the measurements already made, press 'q' at any time.\n",
    "    \n",
    "    Args:\n",
    "        num (int): The number of times to repeat the measurements\n",
    "        time_total_ms (int): The time (in milliseconds) between measurements. Default \n",
    "                             is 4000 (4 seconds).\n",
    "        time_setup_ms (int): The time between the ending of a measurement, and the begining\n",
    "                             of the next measurement (time to change the frequency setting of \n",
    "                             the generator). Default is 1400 (1.4 seconds).\n",
    "    \n",
    "    Returns:\n",
    "        \n",
    "        np.array() of BodePlot_Points with the measurements.\n",
    "    '''\n",
    "    \n",
    "    beeper = jupyter_beeper.Beeper()\n",
    "    \n",
    "    scope.visa_write(':MEASure:COUNter:SOURce CHANnel1')\n",
    "    scope.visa_write(':MEASure:SETup:DSA CHANnel1')\n",
    "    scope.visa_write(':MEASure:SETup:DSB CHANnel2')\n",
    "    scope.visa_write(':MEASure:STATistic:DISPlay ON')\n",
    "    scope.visa_write(':MEASure:STATistic:MODE DIFFerence')\n",
    "    scope.visa_write(':MEASure:STATistic:ITEM VPP,CHANnel1')\n",
    "    scope.visa_write(':MEASure:STATistic:ITEM VPP,CHANnel2')\n",
    "    scope.visa_write(':MEASure:STATistic:ITEM RDELay')\n",
    "    \n",
    "    data = []\n",
    "    \n",
    "    mills_time = lambda: int(round(time.time() * 1000))\n",
    "    numPointsTaken = 0\n",
    "    lastMeasurement = mills_time()\n",
    "    inSetup = True\n",
    "    with tqdm(total=num) as pbar:\n",
    "        while True:\n",
    "            try:\n",
    "                if keyboard.is_pressed('q'):\n",
    "                    break\n",
    "                else:\n",
    "                    timeNow = mills_time()\n",
    "                    if inSetup:\n",
    "                        if timeNow >= lastMeasurement + time_setup_ms:\n",
    "                            inSetup = False\n",
    "                            scope.visa_write(':MEASure:STATistic:RESet')\n",
    "                            beeper.beep(900, 0.2)\n",
    "                    elif timeNow >= lastMeasurement + time_total_ms:\n",
    "                        vin = float(scope.visa_ask(':MEASure:STATistic:ITEM? AVERages,VPP,CHANnel1'))\n",
    "                        vout = float(scope.visa_ask(':MEASure:STATistic:ITEM? AVERages,VPP,CHANnel2'))\n",
    "                        delay = float(scope.visa_ask(':MEASure:STATistic:ITEM? AVERages,RDELay'))\n",
    "                        freq = float(scope.visa_ask(':MEASure:COUNter:VALue?'))\n",
    "                        \n",
    "                        data += [BodePlot_Point(vin, vout, delay, freq)]\n",
    "\n",
    "                        pbar.update(1)\n",
    "                        numPointsTaken += 1\n",
    "                        if numPointsTaken == num:\n",
    "                            beeper.beep(1200, 1.3, blocking=True)\n",
    "                            break\n",
    "                        else:\n",
    "                            beeper.beep(1200, 0.4)\n",
    "                        lastMeasurement = mills_time()\n",
    "                        inSetup=True\n",
    "            except:\n",
    "                break\n",
    "    \n",
    "    return data"
   ]
  },
  {
   "cell_type": "code",
   "execution_count": 6,
   "metadata": {},
   "outputs": [
    {
     "data": {
      "text/html": [],
      "text/plain": [
       "<IPython.core.display.HTML object>"
      ]
     },
     "metadata": {},
     "output_type": "display_data"
    },
    {
     "name": "stderr",
     "output_type": "stream",
     "text": [
      "100%|██████████████████████████████████████████████████████████████████████████████| 200/200 [15:05<00:00,  4.53s/it]\n"
     ]
    },
    {
     "data": {
      "text/html": [],
      "text/plain": [
       "<IPython.core.display.HTML object>"
      ]
     },
     "metadata": {},
     "output_type": "display_data"
    }
   ],
   "source": [
    "data_rlc_white = captureBodePlot(rigolScope, 200)"
   ]
  },
  {
   "cell_type": "code",
   "execution_count": 7,
   "metadata": {},
   "outputs": [
    {
     "data": {
      "image/png": "[encoded data removed]",
      "text/plain": [
       "<Figure size 432x288 with 2 Axes>"
      ]
     },
     "metadata": {
      "needs_background": "light"
     },
     "output_type": "display_data"
    }
   ],
   "source": [
    "bode_save([data_rlc_white], 'example/data_rlc_white.csv');\n",
    "bode_plot([data_rlc_white])"
   ]
  },
  {
   "cell_type": "code",
   "execution_count": null,
   "metadata": {},
   "outputs": [],
   "source": []
  },
  {
   "cell_type": "code",
   "execution_count": 12,
   "metadata": {},
   "outputs": [],
   "source": []
  },
  {
   "cell_type": "code",
   "execution_count": null,
   "metadata": {},
   "outputs": [],
   "source": [
    "scope.close()"
   ]
  }
 ],
 "metadata": {
  "kernelspec": {
   "display_name": "Python 3",
   "language": "python",
   "name": "python3"
  },
  "language_info": {
   "codemirror_mode": {
    "name": "ipython",
    "version": 3
   },
   "file_extension": ".py",
   "mimetype": "text/x-python",
   "name": "python",
   "nbconvert_exporter": "python",
   "pygments_lexer": "ipython3",
   "version": "3.6.7"
  }
 },
 "nbformat": 4,
 "nbformat_minor": 2
}
